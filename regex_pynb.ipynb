{
  "nbformat": 4,
  "nbformat_minor": 0,
  "metadata": {
    "colab": {
      "name": "regex.pynb",
      "provenance": [],
      "collapsed_sections": [],
      "toc_visible": true,
      "mount_file_id": "1LabC8zrFDpIMGG8KeYKI6Hfif56hqVHM",
      "authorship_tag": "ABX9TyPy23ayx0JSBMv+4LL7Ydh4",
      "include_colab_link": true
    },
    "kernelspec": {
      "name": "python3",
      "display_name": "Python 3"
    },
    "language_info": {
      "name": "python"
    }
  },
  "cells": [
    {
      "cell_type": "markdown",
      "metadata": {
        "id": "view-in-github",
        "colab_type": "text"
      },
      "source": [
        "<a href=\"https://colab.research.google.com/github/robertocannella/data_science_python/blob/main/regex_pynb.ipynb\" target=\"_parent\"><img src=\"https://colab.research.google.com/assets/colab-badge.svg\" alt=\"Open In Colab\"/></a>"
      ]
    },
    {
      "cell_type": "markdown",
      "metadata": {
        "id": "EfInzg0s5tY7"
      },
      "source": [
        "#Regular Expressions"
      ]
    },
    {
      "cell_type": "markdown",
      "metadata": {
        "id": "lbv_8vv45zrB"
      },
      "source": [
        "##Overview"
      ]
    },
    {
      "cell_type": "markdown",
      "metadata": {
        "id": "Jy4eqXd85fq4"
      },
      "source": [
        "\n",
        "In this lecture we're going to talk about pattern matching in strings using regular expressions. Regular expressions, or regexes, are written in a condensed formatting language. In general, you can think of a regular expression as a pattern which you give to a regex processor with some source data. The processor then parses that source data using that pattern, and returns chunks of text back to the a data scientist or programmer for further manipulation. There's really three main reasons you would want to do this - to check whether a pattern exists within some source data, to get all instances of a complex pattern from some source data, or to clean your source data using a pattern generally through string splitting. Regexes are not trivial, but they are a foundational technique for data cleaning in data science applications, and a solid understanding of regexs will help you quickly and efficiently manipulate text data for further data science application.\n",
        "\n",
        "Now, you could teach a whole course on regular expressions alone, especially if you wanted to demystify how the regex parsing engine works and efficient mechanisms for parsing text. In this lecture I want to give you basic understanding of how regex works - enough knowledge that, with a little directed sleuthing, you'll be able to make sense of the regex patterns you see others use, and you can build up your practical knowledge of how to use regexes to improve your data cleaning. By the end of this lecture, you will understand the basics of regular expressions, how to define patterns for matching, how to apply these patterns to strings, and how to use the results of those patterns in data processing.\n",
        "\n",
        "Finally, a note that in order to best learn regexes you need to write regexes. I encourage you to stop the video at any time and try out new patterns or syntax you learn at any time."
      ]
    },
    {
      "cell_type": "markdown",
      "metadata": {
        "id": "mcLNjNtdf2L1"
      },
      "source": [
        "First we'll import the re module, which is where python stores regular expression libraries."
      ]
    },
    {
      "cell_type": "code",
      "metadata": {
        "id": "lINPCWlNd-xE"
      },
      "source": [
        "import re"
      ],
      "execution_count": null,
      "outputs": []
    },
    {
      "cell_type": "markdown",
      "metadata": {
        "id": "iUSaSZuqfre-"
      },
      "source": [
        " There are several main processing functions in re that you might use. The first, `match()` checks for a match that is at the beginning of the string and returns a boolean. Similarly, `search()`, checks for a match anywhere in the string, and returns a boolean.\n",
        "\n",
        " Lets create some text for an example"
      ]
    },
    {
      "cell_type": "code",
      "metadata": {
        "id": "7rKsF4AYfpyz"
      },
      "source": [
        "text = \"This is a bad day\""
      ],
      "execution_count": null,
      "outputs": []
    },
    {
      "cell_type": "markdown",
      "metadata": {
        "id": "AjXJWYb3gLPO"
      },
      "source": [
        "Now, lets see if it's a good day or not:"
      ]
    },
    {
      "cell_type": "code",
      "metadata": {
        "colab": {
          "base_uri": "https://localhost:8080/"
        },
        "id": "ad8y-5LUgMgi",
        "outputId": "f2e1385c-41d3-4f3d-fa78-3b58c75ece2d"
      },
      "source": [
        "if (re.search(\"good\",text)):\n",
        "  print(\"wonderful\")\n",
        "else:\n",
        "  print(\"oh well\")"
      ],
      "execution_count": null,
      "outputs": [
        {
          "output_type": "stream",
          "name": "stdout",
          "text": [
            "oh well\n"
          ]
        }
      ]
    },
    {
      "cell_type": "markdown",
      "metadata": {
        "id": "z25Lh_sD2Fgt"
      },
      "source": [
        "In addition to checking for conditionals, we can segment a string. The work that regex does here is called tokenizing, where the string is separated into substrings based on patterns. Tokenizing is a core activity in natural language processing, which we won't talk much about here but that you will study in the future\n",
        "\n",
        "\n",
        "The `findall()` and `split()` functions will parse the string for us and return chunks. Lets try and example"
      ]
    },
    {
      "cell_type": "code",
      "metadata": {
        "id": "eTz28xX719Kd"
      },
      "source": [
        "text = \"Amy works diligently. Amy gets good grades. Our student Amy is succesful.\""
      ],
      "execution_count": null,
      "outputs": []
    },
    {
      "cell_type": "markdown",
      "metadata": {
        "id": "vq4AUkX12njA"
      },
      "source": [
        "This is a bit of a fabricated example, but lets split this on all instances of Amy"
      ]
    },
    {
      "cell_type": "code",
      "metadata": {
        "colab": {
          "base_uri": "https://localhost:8080/"
        },
        "id": "wokUqO5I2u8o",
        "outputId": "35312a56-d99d-496f-b19f-4da187d6ddb9"
      },
      "source": [
        "re.split(\"Amy\", text)"
      ],
      "execution_count": null,
      "outputs": [
        {
          "output_type": "execute_result",
          "data": {
            "text/plain": [
              "['',\n",
              " ' works diligently. ',\n",
              " ' gets good grades. Our student ',\n",
              " ' is succesful.']"
            ]
          },
          "metadata": {},
          "execution_count": 20
        }
      ]
    },
    {
      "cell_type": "markdown",
      "metadata": {
        "id": "ibg323B123Hl"
      },
      "source": [
        "You'll notice that split has returned an empty string, followed by a number of statements about Amy, all as elements of a list. If we wanted to count how many times we have talked about Amy, we could use findall()"
      ]
    },
    {
      "cell_type": "code",
      "metadata": {
        "colab": {
          "base_uri": "https://localhost:8080/"
        },
        "id": "bygEnEjS28VW",
        "outputId": "29d16c51-5f7e-4588-a5e2-d4ec710bfb65"
      },
      "source": [
        "re.findall(\"Amy\", text)"
      ],
      "execution_count": null,
      "outputs": [
        {
          "output_type": "execute_result",
          "data": {
            "text/plain": [
              "['Amy', 'Amy', 'Amy']"
            ]
          },
          "metadata": {},
          "execution_count": 21
        }
      ]
    },
    {
      "cell_type": "markdown",
      "metadata": {
        "id": "FroVWG9Y3MxK"
      },
      "source": [
        "Ok, so we've seen that **.search()** looks for some pattern and returns a boolean, that **.split()** will use a pattern for creating a list of substrings, and that **.findall()** will look for a pattern and pull out all occurences.\n",
        "\n",
        "Now that we know how the python regex API works, lets talk about more complex patterns. The regex specification standard defines a markup language to describe patterns in text. Lets start with anchors.\n",
        "Anchors specify the start and/or the end of the string that you are trying to match. The caret character `^` means start and the dollar sign character `$` means end. If you put `^` before a string, it means that the text the regex processor retrieves must start with the string you specify. For ending, you have to put the `$` character after the string, it means that the text Regex retrieves must end with the string you specify.\n",
        "\n",
        "Here's an example"
      ]
    },
    {
      "cell_type": "code",
      "metadata": {
        "id": "GjQY4mc-3WEK"
      },
      "source": [
        "text = \"Amy works diligently. gets good grades. Our student  is succesful.\""
      ],
      "execution_count": null,
      "outputs": []
    },
    {
      "cell_type": "markdown",
      "metadata": {
        "id": "1XVQt_9t4hKP"
      },
      "source": [
        "Lets see if this begins with Amy"
      ]
    },
    {
      "cell_type": "code",
      "metadata": {
        "colab": {
          "base_uri": "https://localhost:8080/"
        },
        "id": "4tlCpVnJ4mtI",
        "outputId": "3929bd3d-1cbf-41c6-f0a7-da59a161f705"
      },
      "source": [
        "re.search(\"^Amy\", text)"
      ],
      "execution_count": null,
      "outputs": [
        {
          "output_type": "execute_result",
          "data": {
            "text/plain": [
              "<re.Match object; span=(0, 3), match='Amy'>"
            ]
          },
          "metadata": {},
          "execution_count": 24
        }
      ]
    },
    {
      "cell_type": "markdown",
      "metadata": {
        "id": "582yO_T14xYe"
      },
      "source": [
        "Notice that `re.search()` actually returned to us a new object, called `re.Match` object. An `re.Match` object always has a boolean value of `True`, as something was found, so you can always evaluate it in an if statement\n",
        "as we did earlier. The rendering of the match object also tells you what pattern was matched, in this case the word Amy, and the location the match was in, as the span."
      ]
    },
    {
      "cell_type": "markdown",
      "metadata": {
        "id": "mvUlCcLL5VMi"
      },
      "source": [
        "##Patterns and character matching"
      ]
    },
    {
      "cell_type": "markdown",
      "metadata": {
        "id": "CFW7pRd15aqi"
      },
      "source": [
        " Let's talk more about patterns and start with character classes. Let's create a string of a single learners' grades over a semester in one course across all of their assignments"
      ]
    },
    {
      "cell_type": "code",
      "metadata": {
        "id": "5rTwnRRk6FCS"
      },
      "source": [
        "grades=\"ACAAAABCBCBAA\""
      ],
      "execution_count": null,
      "outputs": []
    },
    {
      "cell_type": "markdown",
      "metadata": {
        "id": "1qH-6OVI6FwL"
      },
      "source": [
        "If we want to answer the question \"How many B's were in the grade list?\" we would just use B"
      ]
    },
    {
      "cell_type": "code",
      "metadata": {
        "colab": {
          "base_uri": "https://localhost:8080/"
        },
        "id": "p_z_TkKA6MNc",
        "outputId": "f5d58182-8e1e-4a53-b34b-65f131490e71"
      },
      "source": [
        "re.findall(\"B\", grades)"
      ],
      "execution_count": null,
      "outputs": [
        {
          "output_type": "execute_result",
          "data": {
            "text/plain": [
              "['B', 'B', 'B']"
            ]
          },
          "metadata": {},
          "execution_count": 28
        }
      ]
    },
    {
      "cell_type": "markdown",
      "metadata": {
        "id": "-38PMwBv6apR"
      },
      "source": [
        " If we wanted to count the number of A's or B's in the list, we can't use \"AB\" since this is used to match all A's followed immediately by a B. Instead, we put the characters A and B inside square brackets."
      ]
    },
    {
      "cell_type": "code",
      "metadata": {
        "colab": {
          "base_uri": "https://localhost:8080/"
        },
        "id": "zG_rz_I56dgr",
        "outputId": "de753aa0-4f64-4b78-b1df-ba1a1a5b9fcb"
      },
      "source": [
        "re.findall(\"[AB]\", grades)"
      ],
      "execution_count": null,
      "outputs": [
        {
          "output_type": "execute_result",
          "data": {
            "text/plain": [
              "['A', 'A', 'A', 'A', 'A', 'B', 'B', 'B', 'A', 'A']"
            ]
          },
          "metadata": {},
          "execution_count": 31
        }
      ]
    },
    {
      "cell_type": "markdown",
      "metadata": {
        "id": "nIid0bjL6ln2"
      },
      "source": [
        "This is called the set operator. You can also include a range of characters, which are ordered alphanumerically. For instance, if we want to refer to all lower case letters we could use `[a-z]` Lets build a simple regex to parse out all instances where this student receive an A followed by a B or a C"
      ]
    },
    {
      "cell_type": "code",
      "metadata": {
        "colab": {
          "base_uri": "https://localhost:8080/",
          "height": 35
        },
        "id": "i8IWm0tC7QeW",
        "outputId": "332ac8ea-2357-4fca-fb3f-ac9a646eb860"
      },
      "source": [
        "grades"
      ],
      "execution_count": null,
      "outputs": [
        {
          "output_type": "execute_result",
          "data": {
            "application/vnd.google.colaboratory.intrinsic+json": {
              "type": "string"
            },
            "text/plain": [
              "'ACAAAABCBCBAA'"
            ]
          },
          "metadata": {},
          "execution_count": 39
        }
      ]
    },
    {
      "cell_type": "code",
      "metadata": {
        "colab": {
          "base_uri": "https://localhost:8080/"
        },
        "id": "pVI46xa66vJL",
        "outputId": "f284719c-2e70-43ee-9977-574ef730dd7d"
      },
      "source": [
        "re.findall(\"[A][BC]\",grades)"
      ],
      "execution_count": null,
      "outputs": [
        {
          "output_type": "execute_result",
          "data": {
            "text/plain": [
              "['AC', 'AB']"
            ]
          },
          "metadata": {},
          "execution_count": 38
        }
      ]
    },
    {
      "cell_type": "markdown",
      "metadata": {
        "id": "aMshdLkm7XHs"
      },
      "source": [
        "Notice how the `[AB]` pattern describes a set of possible characters which could be either (A OR B), while the `[A][B-C]` pattern denoted two sets of characters which must have been matched back to back. You can write\n",
        "this pattern by using the pipe operator, which means OR"
      ]
    },
    {
      "cell_type": "code",
      "metadata": {
        "colab": {
          "base_uri": "https://localhost:8080/"
        },
        "id": "2TLD5ywx7eyW",
        "outputId": "e0c623f5-4ded-4b66-b655-a162947d0cb8"
      },
      "source": [
        "re.findall(\"AB|AC\", grades) # notice no brackets"
      ],
      "execution_count": null,
      "outputs": [
        {
          "output_type": "execute_result",
          "data": {
            "text/plain": [
              "['AC', 'AB']"
            ]
          },
          "metadata": {},
          "execution_count": 44
        }
      ]
    },
    {
      "cell_type": "markdown",
      "metadata": {
        "id": "R9Qi31OM744T"
      },
      "source": [
        "We can use the caret with the set operator to negate our results. For instance, if we want to parse out only the grades which were not A's"
      ]
    },
    {
      "cell_type": "code",
      "metadata": {
        "colab": {
          "base_uri": "https://localhost:8080/"
        },
        "id": "jjs08iEY7-Op",
        "outputId": "7985159f-c41c-4378-85a2-0eca863d59cd"
      },
      "source": [
        "re.findall(\"[^A]\",grades)"
      ],
      "execution_count": null,
      "outputs": [
        {
          "output_type": "execute_result",
          "data": {
            "text/plain": [
              "['C', 'B', 'C', 'B', 'C', 'B']"
            ]
          },
          "metadata": {},
          "execution_count": 45
        }
      ]
    },
    {
      "cell_type": "markdown",
      "metadata": {
        "id": "ehUKXhCd8H8u"
      },
      "source": [
        "**Note this carefully** - the caret was previously matched to the beginning of a string as an anchor point, but inside of the set operator the caret, and the other special characters we will be talking about, lose their meaning. This can be a bit confusing. What do you think the result would be of this?"
      ]
    },
    {
      "cell_type": "code",
      "metadata": {
        "colab": {
          "base_uri": "https://localhost:8080/"
        },
        "id": "A6tcn82L8OaQ",
        "outputId": "f78dd46f-4db4-4e7a-e6bd-c0126722dc7c"
      },
      "source": [
        "re.findall(\"^[^A]\",grades) #notice caret inside of [set] operator as well as outside"
      ],
      "execution_count": null,
      "outputs": [
        {
          "output_type": "execute_result",
          "data": {
            "text/plain": [
              "[]"
            ]
          },
          "metadata": {},
          "execution_count": 46
        }
      ]
    },
    {
      "cell_type": "markdown",
      "metadata": {
        "id": "uNXSPswe8aad"
      },
      "source": [
        "It's an empty list, because the regex says that we want to match any value at the beginning of the string which is *not an A*. Our string though starts with an A, so there is no match found. And remember when you are using the set operator you are doing character-based matching. So you are matching individual characters in an OR method."
      ]
    },
    {
      "cell_type": "markdown",
      "metadata": {
        "id": "XmIUkaA48m1R"
      },
      "source": [
        "##Quantifiers"
      ]
    },
    {
      "cell_type": "markdown",
      "metadata": {
        "id": "hiZVviN68tJy"
      },
      "source": [
        "Ok, so we've talked about anchors and matching to the beginning and end of patterns. And we've talked about characters and using sets with the `[]` notation. We've also talked about character negation, and how the pipe\n",
        " `|` character allows us to or operations. Lets move on to quantifiers."
      ]
    },
    {
      "cell_type": "markdown",
      "metadata": {
        "id": "w6dwvY5R9DYN"
      },
      "source": [
        "Quantifiers are the number of times you want a pattern to be matched in order to match. The most basic quantifier is expressed as `e{m,n}`, where `e` is the expression or character we are matching, `m` is the minimum\n",
        "number of times you want it to matched, and `n` is the maximum number of times the item could be matched."
      ]
    },
    {
      "cell_type": "markdown",
      "metadata": {
        "id": "NKOtKTmD9O4D"
      },
      "source": [
        "Let's use these grades as an example. How many times has this student been on a back-to-back A's streak?"
      ]
    },
    {
      "cell_type": "code",
      "metadata": {
        "colab": {
          "base_uri": "https://localhost:8080/"
        },
        "id": "RjlcVUME9Teu",
        "outputId": "17276403-516c-4594-9406-e213a6f9a46c"
      },
      "source": [
        "re.findall(\"A{2,10}\",grades) # we'll use 2 as our min, but ten as our max"
      ],
      "execution_count": null,
      "outputs": [
        {
          "output_type": "execute_result",
          "data": {
            "text/plain": [
              "['AAAA', 'AA']"
            ]
          },
          "metadata": {},
          "execution_count": 49
        }
      ]
    },
    {
      "cell_type": "markdown",
      "metadata": {
        "id": "ptn_yMFC9lCL"
      },
      "source": [
        "So we see that there were two streaks, one where the student had four A's, and one where they had only two A's\n",
        "\n",
        "We might try and do this using single values and just repeating the pattern"
      ]
    },
    {
      "cell_type": "code",
      "metadata": {
        "colab": {
          "base_uri": "https://localhost:8080/"
        },
        "id": "qjCp91-f9or3",
        "outputId": "79303155-c895-40ba-c23a-b511a4dafea5"
      },
      "source": [
        "re.findall(\"A{1,1}A{1,1}\",grades)"
      ],
      "execution_count": null,
      "outputs": [
        {
          "output_type": "execute_result",
          "data": {
            "text/plain": [
              "['AA', 'AA', 'AA']"
            ]
          },
          "metadata": {},
          "execution_count": 54
        }
      ]
    },
    {
      "cell_type": "markdown",
      "metadata": {
        "id": "ASHAwYPg-DLA"
      },
      "source": [
        "As you can see, this is different than the first example. The first pattern is looking for any combination of two A's up to ten A's in a row. So it sees four A's as a single streak. The second pattern is looking for\n",
        "two A's back to back, so it sees two A's followed immediately by two more A's. We say that the regex processor begins at the start of the string and consumes variables which match patterns as it does.\n",
        "\n",
        "It's important to note that the regex quantifier syntax does not allow you to deviate from the `{m,n}` pattern. In particular, if you have an extra space in between the braces you'll get an empty result"
      ]
    },
    {
      "cell_type": "code",
      "metadata": {
        "colab": {
          "base_uri": "https://localhost:8080/"
        },
        "id": "v6twC7Gf-N2T",
        "outputId": "3433dd2d-59e4-45b5-da07-c87dca412d76"
      },
      "source": [
        "re.findall(\"A{2, 2}\", grades)"
      ],
      "execution_count": null,
      "outputs": [
        {
          "output_type": "execute_result",
          "data": {
            "text/plain": [
              "[]"
            ]
          },
          "metadata": {},
          "execution_count": 56
        }
      ]
    },
    {
      "cell_type": "markdown",
      "metadata": {
        "id": "06wbtGXr-Z7H"
      },
      "source": [
        "And as we have already seen, if we don't include a quantifier then the default is `{1,1}`"
      ]
    },
    {
      "cell_type": "code",
      "metadata": {
        "colab": {
          "base_uri": "https://localhost:8080/"
        },
        "id": "ww5JZSJR-fwT",
        "outputId": "e6b1e4aa-6bfa-4be8-cada-ae8bed5edafa"
      },
      "source": [
        "re.findall(\"AA\",grades)"
      ],
      "execution_count": null,
      "outputs": [
        {
          "output_type": "execute_result",
          "data": {
            "text/plain": [
              "['AA', 'AA', 'AA']"
            ]
          },
          "metadata": {},
          "execution_count": 58
        }
      ]
    },
    {
      "cell_type": "markdown",
      "metadata": {
        "id": "H7ASwZhrAvLj"
      },
      "source": [
        "Oh, and if you just have one number in the braces, it's considered to be both m and n"
      ]
    },
    {
      "cell_type": "code",
      "metadata": {
        "colab": {
          "base_uri": "https://localhost:8080/"
        },
        "id": "R-0NLB_FAxLC",
        "outputId": "050434ad-6eaf-4dbb-8019-c1af5193d17e"
      },
      "source": [
        "re.findall(\"A{2}\", grades)"
      ],
      "execution_count": null,
      "outputs": [
        {
          "output_type": "execute_result",
          "data": {
            "text/plain": [
              "['AA', 'AA', 'AA']"
            ]
          },
          "metadata": {},
          "execution_count": 59
        }
      ]
    },
    {
      "cell_type": "markdown",
      "metadata": {
        "id": "FYMLd3CLA4Gd"
      },
      "source": [
        "Using this, we could find a decreasing trend in a student's grades"
      ]
    },
    {
      "cell_type": "code",
      "metadata": {
        "colab": {
          "base_uri": "https://localhost:8080/"
        },
        "id": "c0-F935AA6an",
        "outputId": "3c2b3bd7-4ab5-4439-9e55-70f76a6a8605"
      },
      "source": [
        "re.findall(\"A{1,10}B{1,10}C{1,10}\",grades)"
      ],
      "execution_count": null,
      "outputs": [
        {
          "output_type": "execute_result",
          "data": {
            "text/plain": [
              "['AAAABC']"
            ]
          },
          "metadata": {},
          "execution_count": 60
        }
      ]
    },
    {
      "cell_type": "markdown",
      "metadata": {
        "id": "cpxk2_rHBjgI"
      },
      "source": [
        "Now, that's a bit of a hack, because we included a maximum that was just arbitrarily large. There are three other quantifiers that are used as short hand, an asterix `*` to match 0 or more times, a question mark `?` to match one or more times, or a `+` plus sign to match one or more times. Lets look at a more complex example, and load some data scraped from wikipedia..."
      ]
    },
    {
      "cell_type": "code",
      "metadata": {
        "colab": {
          "base_uri": "https://localhost:8080/",
          "height": 171
        },
        "id": "fNWjV7HLB6r2",
        "outputId": "58088d32-84d1-424b-e145-110d19fbcd31"
      },
      "source": [
        "with open(\"/content/sample_data/ferpa.txt\",\"r\") as file:\n",
        "    # we'll read that into a variable called wiki\n",
        "    wiki=file.read()\n",
        "# and lets print that variable out to the screen\n",
        "wiki"
      ],
      "execution_count": null,
      "outputs": [
        {
          "output_type": "execute_result",
          "data": {
            "application/vnd.google.colaboratory.intrinsic+json": {
              "type": "string"
            },
            "text/plain": [
              "'Overview[edit]\\nFERPA gives parents access to their child\\'s education records, an opportunity to seek to have the records amended, and some control over the disclosure of information from the records. With several exceptions, schools must have a student\\'s consent prior to the disclosure of education records after that student is 18 years old. The law applies only to educational agencies and institutions that receive funds under a program administered by the U.S. Department of Education.\\n\\nOther regulations under this act, effective starting January 3, 2012, allow for greater disclosures of personal and directory student identifying information and regulate student IDs and e-mail addresses.[2] For example, schools may provide external companies with a student\\'s personally identifiable information without the student\\'s consent.[2]\\n\\nExamples of situations affected by FERPA include school employees divulging information to anyone other than the student about the student\\'s grades or behavior, and school work posted on a bulletin board with a grade. Generally, schools must have written permission from the parent or eligible student in order to release any information from a student\\'s education record.\\n\\nThis privacy policy also governs how state agencies transmit testing data to federal agencies, such as the Education Data Exchange Network.\\n\\nThis U.S. federal law also gave students 18 years of age or older, or students of any age if enrolled in any post-secondary educational institution, the right of privacy regarding grades, enrollment, and even billing information unless the school has specific permission from the student to share that specific type of information.\\n\\nFERPA also permits a school to disclose personally identifiable information from education records of an \"eligible student\" (a student age 18 or older or enrolled in a postsecondary institution at any age) to his or her parents if the student is a \"dependent student\" as that term is defined in Section 152 of the Internal Revenue Code. Generally, if either parent has claimed the student as a dependent on the parent\\'s most recent income tax statement, the school may non-consensually disclose the student\\'s education records to both parents.[3]\\n\\nThe law allowed students who apply to an educational institution such as graduate school permission to view recommendations submitted by others as part of the application. However, on standard application forms, students are given the option to waive this right.\\n\\nFERPA specifically excludes employees of an educational institution if they are not students.\\n\\nThe act is also referred to as the Buckley Amendment, for one of its proponents, Senator James L. Buckley of New York.\\n\\nAccess to public records[edit]\\nThe citing of FERPA to conceal public records that are not \"educational\" in nature has been widely criticized, including by the act\\'s primary Senate sponsor.[4] For example, in the Owasso Independent School District v. Falvo case, an important part of the debate was determining the relationship between peer-grading and \"education records\" as defined in FERPA. In the Court of Appeals, it was ruled that students placing grades on the work of other students made such work into an \"education record.\" Thus, peer-grading was determined as a violation of FERPA privacy policies because students had access to other students\\' academic performance without full consent.[5] However, when the case went to the Supreme Court, it was officially ruled that peer-grading was not a violation of FERPA. This is because a grade written on a student\\'s work does not become an \"education record\" until the teacher writes the final grade into a grade book.[6]\\n\\nStudent medical records[edit]\\nLegal experts have debated the issue of whether student medical records (for example records of therapy sessions with a therapist at an on-campus counseling center) might be released to the school administration under certain triggering events, such as when a student sued his college or university.[7][8]\\n\\nUsually, student medical treatment records will remain under the protection of FERPA, not the Health Insurance Portability and Accountability Act (HIPAA). This is due to the \"FERPA Exception\" written within HIPAA.[9]'"
            ]
          },
          "metadata": {},
          "execution_count": 64
        }
      ]
    },
    {
      "cell_type": "markdown",
      "metadata": {
        "id": "CMq-_Ts_DVl6"
      },
      "source": [
        "Scanning through this document one of the things we notice is that the headers all have the words `[edit]` behind them, followed by a newline character. So if we wanted to get a list of all of the headers in this article we could do so using re.findall"
      ]
    },
    {
      "cell_type": "code",
      "metadata": {
        "colab": {
          "base_uri": "https://localhost:8080/"
        },
        "id": "vCqO5QjdDVYt",
        "outputId": "05e7b3be-e97c-4db7-a7a7-10c16385ebe5"
      },
      "source": [
        "re.findall(\"[a-zA-Z]{1,100}\\[edit\\]\",wiki)"
      ],
      "execution_count": null,
      "outputs": [
        {
          "output_type": "execute_result",
          "data": {
            "text/plain": [
              "['Overview[edit]', 'records[edit]', 'records[edit]']"
            ]
          },
          "metadata": {},
          "execution_count": 66
        }
      ]
    },
    {
      "cell_type": "markdown",
      "metadata": {
        "id": "8uh69obDDvWY"
      },
      "source": [
        "Ok, that didn't quite work. It got all of the headers, but only the last word of the header, and it really\n",
        "was quite clunky. Lets iteratively improve this. First, we can use `\\w` to match any letter, including digits\n",
        "and numbers."
      ]
    },
    {
      "cell_type": "code",
      "metadata": {
        "colab": {
          "base_uri": "https://localhost:8080/"
        },
        "id": "HA5mabeMD1qW",
        "outputId": "3900fcc3-8cad-4299-a9b9-c03e0090774f"
      },
      "source": [
        "re.findall(\"[\\w]{1,100}\\[edit\\]\",wiki)"
      ],
      "execution_count": null,
      "outputs": [
        {
          "output_type": "execute_result",
          "data": {
            "text/plain": [
              "['Overview[edit]', 'records[edit]', 'records[edit]']"
            ]
          },
          "metadata": {},
          "execution_count": 74
        }
      ]
    },
    {
      "cell_type": "markdown",
      "metadata": {
        "id": "O5Epl6p-ERyC"
      },
      "source": [
        "This is something new. `\\w` is a metacharacter, and indicates a special pattern of any letter or digit. There\n",
        "are actually a number of different metacharacters listed in the documentation. For instance, `\\s` matches any\n",
        "whitespace character.\n",
        "\n",
        "Next, there are three other quantifiers we can use which shorten up the curly brace syntax. We can use an asterix `*` to match `0` or more times, so let's try that."
      ]
    },
    {
      "cell_type": "code",
      "metadata": {
        "colab": {
          "base_uri": "https://localhost:8080/"
        },
        "id": "OiymtTO2Ebfd",
        "outputId": "0e9bff8d-2310-4afd-ba91-dee6e9319faa"
      },
      "source": [
        "re.findall(\"[\\w]*\\[edit\\]\",wiki)"
      ],
      "execution_count": null,
      "outputs": [
        {
          "output_type": "execute_result",
          "data": {
            "text/plain": [
              "['Overview[edit]', 'records[edit]', 'records[edit]']"
            ]
          },
          "metadata": {},
          "execution_count": 76
        }
      ]
    },
    {
      "cell_type": "markdown",
      "metadata": {
        "id": "n59aNV6vEov9"
      },
      "source": [
        "Now that we have shortened the regex, let's improve it a little bit. We can add in a spaces using the space\n",
        "character"
      ]
    },
    {
      "cell_type": "code",
      "metadata": {
        "colab": {
          "base_uri": "https://localhost:8080/"
        },
        "id": "kxz1eAs5Ersc",
        "outputId": "02589267-2710-4706-b034-2112be13d368"
      },
      "source": [
        "re.findall(\"[\\w ]*\\[edit\\]\",wiki) #notice space after \\w"
      ],
      "execution_count": null,
      "outputs": [
        {
          "output_type": "execute_result",
          "data": {
            "text/plain": [
              "['Overview[edit]',\n",
              " 'Access to public records[edit]',\n",
              " 'Student medical records[edit]']"
            ]
          },
          "metadata": {},
          "execution_count": 85
        }
      ]
    },
    {
      "cell_type": "markdown",
      "metadata": {
        "id": "lzWXRmd8EzEL"
      },
      "source": [
        "Ok, so this gets us the list of section titles in the wikipedia page! You can now create a list of titles by\n",
        "iterating through this and applying another regex"
      ]
    },
    {
      "cell_type": "code",
      "metadata": {
        "colab": {
          "base_uri": "https://localhost:8080/"
        },
        "id": "B_OtE-BOFBV-",
        "outputId": "fb4255f0-c703-401b-e1be-3137d2833714"
      },
      "source": [
        "for title in re.findall(\"[\\w ]*\\[edit\\]\",wiki):\n",
        "    # Now we will take that intermediate result and split on the square bracket [ just taking the first result\n",
        "    print(re.split(\"[\\[]\",title)[0]) # splits a the open bracket"
      ],
      "execution_count": null,
      "outputs": [
        {
          "output_type": "stream",
          "name": "stdout",
          "text": [
            "Overview\n",
            "Access to public records\n",
            "Student medical records\n"
          ]
        }
      ]
    },
    {
      "cell_type": "markdown",
      "metadata": {
        "id": "gxbnGr3nFiSb"
      },
      "source": [
        "#Groups"
      ]
    },
    {
      "cell_type": "markdown",
      "metadata": {
        "id": "KoCC1x7GF5Sq"
      },
      "source": [
        "Ok, this works, but it's a bit of a pain. To this point we have been talking about a regex as a single pattern which is matched. But, you can actually match different patterns, called groups, at the same time, and then refer to the groups you want. To group patterns together you use parentheses, which is actually pretty natural. Lets rewrite our findall using groups"
      ]
    },
    {
      "cell_type": "code",
      "metadata": {
        "colab": {
          "base_uri": "https://localhost:8080/"
        },
        "id": "j7rwetanGEWj",
        "outputId": "de0bf5b3-1a53-4cb1-a922-b3278e8398f0"
      },
      "source": [
        "re.findall(\"([\\w ]*)(\\[edit\\])\",wiki)"
      ],
      "execution_count": null,
      "outputs": [
        {
          "output_type": "execute_result",
          "data": {
            "text/plain": [
              "[('Overview', '[edit]'),\n",
              " ('Access to public records', '[edit]'),\n",
              " ('Student medical records', '[edit]')]"
            ]
          },
          "metadata": {},
          "execution_count": 83
        }
      ]
    },
    {
      "cell_type": "markdown",
      "metadata": {
        "id": "_Dv2pey2GO2q"
      },
      "source": [
        "Nice - we see that the python `re` module breaks out the result by group. We can actually refer to groups by number as well with the match objects that are returned. But, how do we get back a list of match objects?\n",
        "Thus far we've seen that `findall()` returns strings, and `search()` and `match()` return individual Match objects. But what do we do if we want a list of Match objects? In this case, we use the function `finditer()`"
      ]
    },
    {
      "cell_type": "code",
      "metadata": {
        "colab": {
          "base_uri": "https://localhost:8080/"
        },
        "id": "HqatBzEmGhrT",
        "outputId": "e47432be-796e-44ff-824a-4339dd194046"
      },
      "source": [
        "for item in re.finditer(\"([\\w ]*)(\\[edit\\])\",wiki):\n",
        "  print(item)"
      ],
      "execution_count": null,
      "outputs": [
        {
          "output_type": "stream",
          "name": "stdout",
          "text": [
            "<re.Match object; span=(0, 14), match='Overview[edit]'>\n",
            "<re.Match object; span=(2715, 2745), match='Access to public records[edit]'>\n",
            "<re.Match object; span=(3692, 3721), match='Student medical records[edit]'>\n"
          ]
        }
      ]
    },
    {
      "cell_type": "code",
      "metadata": {
        "colab": {
          "base_uri": "https://localhost:8080/"
        },
        "id": "3xdzEiM_HQ6q",
        "outputId": "de89b362-a7cd-45cf-db5e-58368d3b4582"
      },
      "source": [
        "for item in re.finditer(\"([\\w ]*)(\\[edit\\])\",wiki):\n",
        "  print(item.groups()) // # this is a method call"
      ],
      "execution_count": null,
      "outputs": [
        {
          "output_type": "stream",
          "name": "stdout",
          "text": [
            "('Overview', '[edit]')\n",
            "('Access to public records', '[edit]')\n",
            "('Student medical records', '[edit]')\n"
          ]
        }
      ]
    },
    {
      "cell_type": "markdown",
      "metadata": {
        "id": "E-PZqY_JHwJw"
      },
      "source": [
        " We see here that the `groups()` method returns a tuple of the group. We can get an individual group using `group(number)`, where `group(0)` is the whole match, and each other number is the portion of the match we are\n",
        "interested in. In this case, we want `group(1)`"
      ]
    },
    {
      "cell_type": "code",
      "metadata": {
        "colab": {
          "base_uri": "https://localhost:8080/"
        },
        "id": "B3qbgBrvH63z",
        "outputId": "31e4b7ba-f5eb-4c09-a833-e032edf17685"
      },
      "source": [
        "for item in re.finditer(\"([\\w ]*)(\\[edit\\])\",wiki):\n",
        "  print(item.group(1))"
      ],
      "execution_count": null,
      "outputs": [
        {
          "output_type": "stream",
          "name": "stdout",
          "text": [
            "Overview\n",
            "Access to public records\n",
            "Student medical records\n"
          ]
        }
      ]
    },
    {
      "cell_type": "markdown",
      "metadata": {
        "id": "_PelY6bNIOfJ"
      },
      "source": [
        " One more piece to regex groups that I rarely use but is a good idea is labeling or naming groups. In the previous example I showed you how you can use the position of the group. But giving them a label and looking at the results as a dictionary is pretty useful. For that we use the syntax `(?P<name>)`, where the parethesis starts the group, the `?P` indicates that this is an extension to basic regexes, and `<name>` is the dictionary key we want to use wrapped in `<>`."
      ]
    },
    {
      "cell_type": "code",
      "metadata": {
        "colab": {
          "base_uri": "https://localhost:8080/"
        },
        "id": "wROHgSs1Ii4b",
        "outputId": "035956b4-7bb0-48e9-f4b1-65b36054231f"
      },
      "source": [
        "for item in re.finditer(\"(?P<title>[\\w ]*)(?P<edit_link>\\[edit\\])\",wiki):\n",
        "    # We can get the dictionary returned for the item with .groupdict()\n",
        "    print(item.groupdict()['title'])"
      ],
      "execution_count": null,
      "outputs": [
        {
          "output_type": "stream",
          "name": "stdout",
          "text": [
            "Overview\n",
            "Access to public records\n",
            "Student medical records\n"
          ]
        }
      ]
    },
    {
      "cell_type": "markdown",
      "metadata": {
        "id": "Cmr5j438ItAo"
      },
      "source": [
        "Of course, we can print out the whole dictionary for the item too, and see that the [edit] string is still\n",
        "in there. Here's the dictionary kept for the last match"
      ]
    },
    {
      "cell_type": "code",
      "metadata": {
        "colab": {
          "base_uri": "https://localhost:8080/"
        },
        "id": "vGY2grLiIxEj",
        "outputId": "1042edf1-2482-492e-909b-080646c342d2"
      },
      "source": [
        "print(item.groupdict())"
      ],
      "execution_count": null,
      "outputs": [
        {
          "output_type": "stream",
          "name": "stdout",
          "text": [
            "{'title': 'Student medical records', 'edit_link': '[edit]'}\n"
          ]
        }
      ]
    },
    {
      "cell_type": "markdown",
      "metadata": {
        "id": "KRc0_Uu-JB6b"
      },
      "source": [
        "Ok, we have seen how we can match individual character patterns with `[]`, how we can group matches together using `()`, and how we can use quantifiers such as `*`, `?`, or `e{m,n}` to describe patterns. Something I glossed\n",
        "over in the previous example was the `\\w`, which standards for any word character. There are a number of short hands which are used with regexes for different kinds of characters, including: \n",
        "* a `.` for any single character which is not a newline\n",
        "* a `\\d` for any digit\n",
        "* an `\\s` for any whitespace character, like spaces and tabs\\\n",
        "\n",
        "There are more, and a full list can be found in the python documentation for regexes"
      ]
    },
    {
      "cell_type": "markdown",
      "metadata": {
        "id": "m9fYvUetJrNB"
      },
      "source": [
        "# Look-ahead and Look-behind"
      ]
    },
    {
      "cell_type": "markdown",
      "metadata": {
        "id": "wN0WHQLOKmci"
      },
      "source": [
        " One more concept to be familiar with is called \"look ahead\" and \"look behind\" matching. In this case, the pattern being given to the regex engine is for text either before or after the text we are trying to isolate. For example, in our headers we want to isolate text which comes before the [edit] rendering, but we actually don't care about the [edit] text itself. Thus far we have been throwing the [edit] away, but if we want to use them to match but don't want to capture them we could put them in a group and use look ahead\n",
        "instead with `?=` syntax"
      ]
    },
    {
      "cell_type": "code",
      "metadata": {
        "colab": {
          "base_uri": "https://localhost:8080/"
        },
        "id": "s4CExBLlK4dj",
        "outputId": "82e7ac49-92cf-47fe-96b8-d0bebd0b360e"
      },
      "source": [
        "for item in re.finditer(\"(?P<title>[\\w ]+)(?=\\[edit\\])\",wiki):\n",
        "    # What this regex says is match two groups, the first will be named and called title, will have any amount\n",
        "    # of whitespace or regular word characters, the second will be the characters [edit] but we don't actually\n",
        "    # want this edit put in our output match objects\n",
        "    print(item)"
      ],
      "execution_count": null,
      "outputs": [
        {
          "output_type": "stream",
          "name": "stdout",
          "text": [
            "<re.Match object; span=(0, 8), match='Overview'>\n",
            "<re.Match object; span=(2715, 2739), match='Access to public records'>\n",
            "<re.Match object; span=(3692, 3715), match='Student medical records'>\n"
          ]
        }
      ]
    },
    {
      "cell_type": "markdown",
      "metadata": {
        "id": "i7N0tRnsLUO4"
      },
      "source": [
        "Let's look at some more wikipedia data. Here's some data on universities in the US which are buddhist-based "
      ]
    },
    {
      "cell_type": "code",
      "metadata": {
        "id": "BWU0l8BsLPvp"
      },
      "source": [
        "with open(\"/content/sample_data/buddhists.txt\",\"r\") as file:\n",
        "    # we'll read that into a variable called wiki\n",
        "    wiki=file.read()\n",
        "# and lets print that variable out to the screen\n",
        "wiki"
      ],
      "execution_count": null,
      "outputs": []
    },
    {
      "cell_type": "markdown",
      "metadata": {
        "id": "37fcsEn1MU7c"
      },
      "source": [
        "We can see that each university follows a fairly similar pattern, with the name followed by an – then the words \"located in\" followed by the city and state\n",
        "\n",
        "I'll actually use this example to show you the verbose mode of python regexes. The verbose mode allows you to write multi-line regexes and increases readability. For this mode, we have to explicitly indicate all whitespace characters, either by prepending them with a `\\` or by using the `\\s` special value. However, this means we can write our regex a bit more like code, and can even include comments with `#`"
      ]
    },
    {
      "cell_type": "code",
      "metadata": {
        "id": "GimkCl-WMpAc"
      },
      "source": [
        "pattern=\"\"\"\n",
        "(?P<title>.*)        #the university title\n",
        "(–\\ located\\ in\\ )   #an indicator of the location\n",
        "(?P<city>\\w*)        #city the university is in\n",
        "(,\\ )                #separator for the state\n",
        "(?P<state>\\w*)       #the state the city is located in\"\"\""
      ],
      "execution_count": null,
      "outputs": []
    },
    {
      "cell_type": "code",
      "metadata": {
        "colab": {
          "base_uri": "https://localhost:8080/"
        },
        "id": "HQeV037vNOvy",
        "outputId": "e9606ed7-9ca7-4a05-c5d0-e7ef06614fff"
      },
      "source": [
        "# Now when we call finditer() we just pass the re.VERBOSE flag as the last parameter, this makes it much\n",
        "# easier to understand large regexes!\n",
        "for item in re.finditer(pattern,wiki,re.VERBOSE):\n",
        "    # We can get the dictionary returned for the item with .groupdict()\n",
        "    print(item.groupdict())"
      ],
      "execution_count": null,
      "outputs": [
        {
          "output_type": "stream",
          "name": "stdout",
          "text": [
            "{'title': 'Dhammakaya Open University ', 'city': 'Azusa', 'state': 'California'}\n",
            "{'title': 'Dharmakirti College ', 'city': 'Tucson', 'state': 'Arizona'}\n",
            "{'title': 'Dharma Realm Buddhist University ', 'city': 'Ukiah', 'state': 'California'}\n",
            "{'title': 'Ewam Buddhist Institute ', 'city': 'Arlee', 'state': 'Montana'}\n",
            "{'title': 'Institute of Buddhist Studies ', 'city': 'Berkeley', 'state': 'California'}\n",
            "{'title': 'Maitripa College ', 'city': 'Portland', 'state': 'Oregon'}\n",
            "{'title': 'University of the West ', 'city': 'Rosemead', 'state': 'California'}\n",
            "{'title': 'Won Institute of Graduate Studies ', 'city': 'Glenside', 'state': 'Pennsylvania'}\n"
          ]
        }
      ]
    },
    {
      "cell_type": "code",
      "metadata": {
        "id": "vKvGaoVtNbSP"
      },
      "source": [
        "# Here's another example from the New York Times which covers health tweets on news items. This data came from\n",
        "# the UC Irvine Machine Learning Repository which is a great source of different kinds of data\n",
        "with open(\"/content/sample_data/nytimeshealth.txt\",\"r\") as file:\n",
        "    # We'll read everything into a variable and take a look at it\n",
        "    health=file.read()\n",
        "health"
      ],
      "execution_count": null,
      "outputs": []
    },
    {
      "cell_type": "markdown",
      "metadata": {
        "id": "fJ9DYx4yOlvj"
      },
      "source": [
        " So here we can see there are tweets with fields separated by pipes |. Lets try and get a list of all of the hashtags that are included in this data. A hashtag begins with a pound sign (or hash mark) and continues until some whitespace is found.\n",
        "\n",
        " So lets create a pattern. We want to include the hash sign first, then any number of alphanumeric characters. And we end when we see some whitespace\n"
      ]
    },
    {
      "cell_type": "code",
      "metadata": {
        "id": "YjVqzs5-O4QL"
      },
      "source": [
        "pattern = '#[\\w\\d]*(?=\\s)'"
      ],
      "execution_count": null,
      "outputs": []
    },
    {
      "cell_type": "markdown",
      "metadata": {
        "id": "-zJUCg8hOyoN"
      },
      "source": [
        "Notice that the ending is a look ahead. We're not actually interested in matching whitespace in the return value. Also notice that I use an asterix `*` instead of the plus `+` for the matching of alphabetical characters or digits, because a `+` would require at least one of each\n",
        "\n",
        " Lets searchg and display all of the hashtags"
      ]
    },
    {
      "cell_type": "code",
      "metadata": {
        "id": "gm2BAaINPlIU"
      },
      "source": [
        "re.findall(pattern,health)"
      ],
      "execution_count": null,
      "outputs": []
    },
    {
      "cell_type": "markdown",
      "metadata": {
        "id": "k3w38trgQBaX"
      },
      "source": [
        "We can see here that there were lots of ebola related tweeks in this particular dataset."
      ]
    },
    {
      "cell_type": "markdown",
      "metadata": {
        "id": "-4B0YUwj9WSR"
      },
      "source": [
        "#Quiz Section"
      ]
    },
    {
      "cell_type": "code",
      "metadata": {
        "colab": {
          "base_uri": "https://localhost:8080/"
        },
        "id": "gZkFg5Ja1Ha-",
        "outputId": "850bc828-1005-4271-8e3e-c72ca9ca844c"
      },
      "source": [
        "import re\n",
        "string = 'bat, lat, mat, bet, let, met, bit, lit, mit, bot, lot, mot'\n",
        "result = re.findall('b[ao]t', string)\n",
        "print(result)"
      ],
      "execution_count": null,
      "outputs": [
        {
          "output_type": "stream",
          "name": "stdout",
          "text": [
            "['bat', 'bot']\n"
          ]
        }
      ]
    },
    {
      "cell_type": "code",
      "metadata": {
        "colab": {
          "base_uri": "https://localhost:8080/"
        },
        "id": "argWhRXz1Zyg",
        "outputId": "ec9f1700-4248-4bbb-d7cd-d00988bb81b8"
      },
      "source": [
        "text = \"\"\"\n",
        "Office of Research Administration: (734) 647-6333 | 4325 North Quad\n",
        "Office of Budget and Financial Administration: (734) 647-8044 | 309 Maynard, Suite 205\n",
        "Health Informatics Program: (734) 763-2285 | 333 Maynard, Suite 500\n",
        "Office of the Dean: (734) 647-3576 | 4322 North Quad\n",
        "UMSI Engagement Center: (734) 763-1251 | 777 North University\n",
        "Faculty Adminstrative Support Staff: (734) 764-9376 | 4322 North Quad\n",
        "\"\"\"\n",
        "\n",
        "print(text)\n",
        "re.findall('\\(\\d{3}\\) \\d{3}[-]\\d{4}', text)"
      ],
      "execution_count": null,
      "outputs": [
        {
          "output_type": "stream",
          "name": "stdout",
          "text": [
            "\n",
            "Office of Research Administration: (734) 647-6333 | 4325 North Quad\n",
            "Office of Budget and Financial Administration: (734) 647-8044 | 309 Maynard, Suite 205\n",
            "Health Informatics Program: (734) 763-2285 | 333 Maynard, Suite 500\n",
            "Office of the Dean: (734) 647-3576 | 4322 North Quad\n",
            "UMSI Engagement Center: (734) 763-1251 | 777 North University\n",
            "Faculty Adminstrative Support Staff: (734) 764-9376 | 4322 North Quad\n",
            "\n"
          ]
        },
        {
          "output_type": "execute_result",
          "data": {
            "text/plain": [
              "['(734) 647-6333',\n",
              " '(734) 647-8044',\n",
              " '(734) 763-2285',\n",
              " '(734) 647-3576',\n",
              " '(734) 763-1251',\n",
              " '(734) 764-9376']"
            ]
          },
          "metadata": {},
          "execution_count": 10
        }
      ]
    },
    {
      "cell_type": "code",
      "metadata": {
        "colab": {
          "base_uri": "https://localhost:8080/"
        },
        "id": "zatmmESJ2l9Q",
        "outputId": "c518629d-e5db-443f-bc33-0c26776180c2"
      },
      "source": [
        "text =\"\"\"\n",
        "I refer to https://google.com and I never refer http://www.baidu.com if I have to search anything\n",
        "\"\"\"\n",
        "print(text)\n",
        "re.findall('(?<=[https]:\\/\\/)([A-Za-z0-9.]*)', text)"
      ],
      "execution_count": null,
      "outputs": [
        {
          "output_type": "stream",
          "name": "stdout",
          "text": [
            "\n",
            "I refer to https://google.com and I never refer http://www.baidu.com if I have to search anything\n",
            "\n"
          ]
        },
        {
          "output_type": "execute_result",
          "data": {
            "text/plain": [
              "['google.com', 'www.baidu.com']"
            ]
          },
          "metadata": {},
          "execution_count": 55
        }
      ]
    },
    {
      "cell_type": "code",
      "metadata": {
        "colab": {
          "base_uri": "https://localhost:8080/"
        },
        "id": "_UYsRR-g-EYX",
        "outputId": "1e2d67f2-7a4d-4d4f-fb33-aa5b7630ce92"
      },
      "source": [
        "text=r'''Everyone has the following fundamental freedoms:\n",
        "    (a) freedom of conscience and religion;\n",
        "    (b) freedom of thought, belief, opinion and expression, including freedom of the press and other media of communication;\n",
        "    (c) freedom of peaceful assembly; and\n",
        "    (d) freedom of association.'''\n",
        "\n",
        "import re\n",
        "patternA = '(\\([a-z]\\))' # my solution\n",
        "patternB = '\\(.\\)'       # prof. solution\n",
        "print(len(re.findall(patternA,text)))"
      ],
      "execution_count": null,
      "outputs": [
        {
          "output_type": "stream",
          "name": "stdout",
          "text": [
            "4\n"
          ]
        }
      ]
    },
    {
      "cell_type": "code",
      "metadata": {
        "colab": {
          "base_uri": "https://localhost:8080/"
        },
        "id": "-CxH0kQCZxjF",
        "outputId": "fd72baf4-3827-417d-a7ad-a3a7a4faeb5f"
      },
      "source": [
        "import re\n",
        "s = 'ACAABAACAAAB'\n",
        "result = re.findall('A{1,2}', s)\n",
        "L = len(result)\n",
        "L"
      ],
      "execution_count": null,
      "outputs": [
        {
          "output_type": "execute_result",
          "data": {
            "text/plain": [
              "5"
            ]
          },
          "metadata": {},
          "execution_count": 3
        }
      ]
    }
  ]
}